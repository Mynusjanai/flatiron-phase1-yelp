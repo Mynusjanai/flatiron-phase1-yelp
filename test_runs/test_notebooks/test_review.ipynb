{
 "cells": [
  {
   "cell_type": "code",
   "execution_count": 1,
   "metadata": {},
   "outputs": [],
   "source": [
    "import json\n",
    "import sys\n",
    "import pandas as pd\n",
    "from matplotlib import pyplot as plt\n",
    "import requests\n",
    "from keys import client_id, api_key"
   ]
  },
  {
   "cell_type": "code",
   "execution_count": 2,
   "metadata": {},
   "outputs": [],
   "source": [
    "def get_yelp_reviews(business_id):\n",
    "# THIS FUNCTION CALLS YELP API TO RETRIEVE ALL REVIEWS FOR A GIVEN BUSINESS ID\n",
    "\n",
    "    business_reviews = []\n",
    "    headers = {'Authorization': 'Bearer {}'.format(api_key),}\n",
    "    url =  \"https://api.yelp.com/v3/businesses/{}/reviews\".format(business_id)\n",
    "\n",
    "    review_response = requests.get(url, headers = headers)\n",
    "    review_data = json.loads(review_response.text)\n",
    "        \n",
    "    for review in review_data['reviews']:\n",
    "        review_tuple = (business_id, review['id'], review['text'], review['rating'], review['time_created'])\n",
    "        business_reviews.append(review_tuple)\n",
    "\n",
    "    return business_reviews"
   ]
  },
  {
   "cell_type": "code",
   "execution_count": 3,
   "metadata": {},
   "outputs": [],
   "source": [
    "def generate_all_reviews(businesses_list):\n",
    "# THIS FUNCTION IS CALLED TO CREATE A LIST OF REVIEWS FOR ALL BUSINESSES WITHIN ITS PASSED DATA SET\n",
    "\n",
    "    all_business_reviews = []\n",
    "\n",
    "    for biz in businesses_list:\n",
    "        biz_reviews = get_yelp_reviews(biz)\n",
    "        for each_business in biz_reviews:\n",
    "            all_business_reviews.append(each_business)\n",
    "\n",
    "    reviews_results = pd.DataFrame(all_business_reviews, columns = \n",
    "                                   ['business_id', 'review_id', 'text', 'rating', 'time_created'])\n",
    "     \n",
    "    return reviews_results"
   ]
  },
  {
   "cell_type": "code",
   "execution_count": 4,
   "metadata": {},
   "outputs": [
    {
     "ename": "NameError",
     "evalue": "name 'business_reviews' is not defined",
     "output_type": "error",
     "traceback": [
      "\u001b[1;31m---------------------------------------------------------------------------\u001b[0m",
      "\u001b[1;31mNameError\u001b[0m                                 Traceback (most recent call last)",
      "\u001b[1;32m<ipython-input-4-411115431026>\u001b[0m in \u001b[0;36m<module>\u001b[1;34m\u001b[0m\n\u001b[1;32m----> 1\u001b[1;33m \u001b[0mbusiness_reviews\u001b[0m\u001b[1;33m\u001b[0m\u001b[1;33m\u001b[0m\u001b[0m\n\u001b[0m",
      "\u001b[1;31mNameError\u001b[0m: name 'business_reviews' is not defined"
     ]
    }
   ],
   "source": [
    "business_reviews"
   ]
  },
  {
   "cell_type": "code",
   "execution_count": null,
   "metadata": {},
   "outputs": [],
   "source": []
  }
 ],
 "metadata": {
  "kernelspec": {
   "display_name": "learn-env",
   "language": "python",
   "name": "learn-env"
  },
  "language_info": {
   "codemirror_mode": {
    "name": "ipython",
    "version": 3
   },
   "file_extension": ".py",
   "mimetype": "text/x-python",
   "name": "python",
   "nbconvert_exporter": "python",
   "pygments_lexer": "ipython3",
   "version": "3.8.5"
  }
 },
 "nbformat": 4,
 "nbformat_minor": 4
}
