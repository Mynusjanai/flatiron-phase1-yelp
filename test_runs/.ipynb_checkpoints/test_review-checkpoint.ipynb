{
 "cells": [
  {
   "cell_type": "code",
   "execution_count": 1,
   "metadata": {},
   "outputs": [],
   "source": [
    "import json\n",
    "import sys\n",
    "import pandas as pd\n",
    "from matplotlib import pyplot as plt\n",
    "import requests\n",
    "from keys import client_id, api_key"
   ]
  },
  {
   "cell_type": "code",
   "execution_count": 3,
   "metadata": {},
   "outputs": [],
   "source": [
    "def get_yelp_reviews(business_id):\n",
    "# THIS FUNCTION CALLS YELP API TO RETRIEVE ALL REVIEWS FOR A GIVEN BUSINESS ID\n",
    "\n",
    "    business_reviews = []\n",
    "    headers = {'Authorization': 'Bearer {}'.format(api_key),}\n",
    "    url =  \"https://api.yelp.com/v3/businesses/{}/reviews\".format(business_id)\n",
    "\n",
    "    review_response = requests.get(url, headers=headers)\n",
    "    review_data = json.loads(review_response.text)\n",
    "        \n",
    "    for review in review_data['reviews']:\n",
    "        review_dict = {'id': review['id'], 'text': review['text'], 'rating': review['rating'], 'time_created': review['time_created']}\n",
    "        business_reviews.append(review_dict)\n",
    "\n",
    "    return business_reviews"
   ]
  },
  {
   "cell_type": "code",
   "execution_count": null,
   "metadata": {},
   "outputs": [],
   "source": [
    "def yelp_call(url, url_params, api_key):\n",
    "#THIS FUNCTION IS CALLED TO MAKE API CALL TO YELP AND RETURN THE RESPONSE\n",
    "\n",
    "    headers = {'Authorization': 'Bearer {}'.format(api_key),}\n",
    "\n",
    "    response = requests.get(url, headers=headers, params=url_params)\n",
    "#    response.status_code\n",
    "#    response.text\n",
    "\n",
    "    return response"
   ]
  }
 ],
 "metadata": {
  "kernelspec": {
   "display_name": "learn-env",
   "language": "python",
   "name": "learn-env"
  },
  "language_info": {
   "codemirror_mode": {
    "name": "ipython",
    "version": 3
   },
   "file_extension": ".py",
   "mimetype": "text/x-python",
   "name": "python",
   "nbconvert_exporter": "python",
   "pygments_lexer": "ipython3",
   "version": "3.8.5"
  }
 },
 "nbformat": 4,
 "nbformat_minor": 4
}
