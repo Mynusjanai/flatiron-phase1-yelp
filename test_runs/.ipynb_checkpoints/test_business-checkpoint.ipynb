{
 "cells": [
  {
   "cell_type": "code",
   "execution_count": 1,
   "metadata": {},
   "outputs": [
    {
     "ename": "ModuleNotFoundError",
     "evalue": "No module named 'keys'",
     "output_type": "error",
     "traceback": [
      "\u001b[0;31m---------------------------------------------------------------------------\u001b[0m",
      "\u001b[0;31mModuleNotFoundError\u001b[0m                       Traceback (most recent call last)",
      "\u001b[0;32m<ipython-input-1-c511f3ed0fb0>\u001b[0m in \u001b[0;36m<module>\u001b[0;34m\u001b[0m\n\u001b[1;32m      4\u001b[0m \u001b[0;32mfrom\u001b[0m \u001b[0mmatplotlib\u001b[0m \u001b[0;32mimport\u001b[0m \u001b[0mpyplot\u001b[0m \u001b[0;32mas\u001b[0m \u001b[0mplt\u001b[0m\u001b[0;34m\u001b[0m\u001b[0;34m\u001b[0m\u001b[0m\n\u001b[1;32m      5\u001b[0m \u001b[0;32mimport\u001b[0m \u001b[0mrequests\u001b[0m\u001b[0;34m\u001b[0m\u001b[0;34m\u001b[0m\u001b[0m\n\u001b[0;32m----> 6\u001b[0;31m \u001b[0;32mfrom\u001b[0m \u001b[0mkeys\u001b[0m \u001b[0;32mimport\u001b[0m \u001b[0mclient_id\u001b[0m\u001b[0;34m,\u001b[0m \u001b[0mapi_key\u001b[0m\u001b[0;34m\u001b[0m\u001b[0;34m\u001b[0m\u001b[0m\n\u001b[0m",
      "\u001b[0;31mModuleNotFoundError\u001b[0m: No module named 'keys'"
     ]
    }
   ],
   "source": [
    "import json\n",
    "import sys\n",
    "import pandas as pd\n",
    "from matplotlib import pyplot as plt\n",
    "import requests\n",
    "from keys import client_id, api_key"
   ]
  },
  {
   "cell_type": "code",
   "execution_count": null,
   "metadata": {},
   "outputs": [],
   "source": [
    "## style for notebook & plots - in matplotlib bookmark ##\n",
    "style = 'dark_background'\n",
    "plt.style.use(style)"
   ]
  },
  {
   "cell_type": "code",
   "execution_count": null,
   "metadata": {},
   "outputs": [],
   "source": [
    "# SEARCH PARAMETERS\n",
    "url =  \"https://api.yelp.com/v3/businesses/search\"\n",
    "term = 'Indian'\n",
    "location = 'Washington, D.C.'\n",
    "categories = \"restaurants\"\n",
    "radius = 100\n",
    "\n",
    "# HEADERS\n",
    "headers = {'Authorization': 'Bearer {}'.format(api_key),\n",
    "    }\n",
    "\n",
    "# URL PARAMETERS\n",
    "url_params = {\"term\": term.replace(' ', '+'),\n",
    "                \"location\": location.replace(' ', '+'),\n",
    "                \"categories\" : categories,\n",
    "                \"limit\": 50,\n",
    "                }"
   ]
  },
  {
   "cell_type": "code",
   "execution_count": null,
   "metadata": {},
   "outputs": [],
   "source": [
    "def generate_yelp_data():\n",
    "# THIS FUNCTION IS USED AS A TESTING GROUND - \n",
    "# RUN THIS FUNCTION TO GRAB ONE SET OF COUNT=50 SET OF DATA ONLY\n",
    "  \n",
    "# RESULTS VARIABLE ASSIGNMENT\n",
    "    response = requests.get(url, headers = headers, params = url_params)\n",
    "    parsed_results, num = parse_results(results)\n",
    "    parsed_reviews = {}\n",
    "    \n",
    "# PARSED_REVIEWS = GENERATE_ALL_REVIEWS(PARSED_RESULTS.ID, PARSED_REVIEWS)\n",
    "    return response.json()['businesses'], parsed_results, parsed_reviews"
   ]
  },
  {
   "cell_type": "code",
   "execution_count": null,
   "metadata": {},
   "outputs": [],
   "source": [
    "response = requests.get(url, headers = headers, params = url_params)"
   ]
  },
  {
   "cell_type": "code",
   "execution_count": null,
   "metadata": {},
   "outputs": [],
   "source": [
    "response.status_code"
   ]
  },
  {
   "cell_type": "code",
   "execution_count": null,
   "metadata": {},
   "outputs": [],
   "source": [
    "response.text"
   ]
  },
  {
   "cell_type": "code",
   "execution_count": null,
   "metadata": {},
   "outputs": [],
   "source": [
    "json.loads(response.text)"
   ]
  },
  {
   "cell_type": "code",
   "execution_count": null,
   "metadata": {},
   "outputs": [],
   "source": [
    "response.json()"
   ]
  },
  {
   "cell_type": "code",
   "execution_count": null,
   "metadata": {},
   "outputs": [],
   "source": [
    "dc_data = response.json()"
   ]
  },
  {
   "cell_type": "code",
   "execution_count": null,
   "metadata": {},
   "outputs": [],
   "source": [
    "type(dc_data)"
   ]
  },
  {
   "cell_type": "code",
   "execution_count": null,
   "metadata": {},
   "outputs": [],
   "source": [
    "dc_data.keys()"
   ]
  },
  {
   "cell_type": "code",
   "execution_count": null,
   "metadata": {},
   "outputs": [],
   "source": [
    "dc_data['total']"
   ]
  },
  {
   "cell_type": "code",
   "execution_count": null,
   "metadata": {},
   "outputs": [],
   "source": [
    "len(dc_data['businesses'])"
   ]
  },
  {
   "cell_type": "raw",
   "metadata": {},
   "source": []
  },
  {
   "cell_type": "code",
   "execution_count": null,
   "metadata": {},
   "outputs": [],
   "source": [
    "# SEARCH PARAMETER DEFINITIONS\n",
    "term = 'Indian'\n",
    "location = 'Washington, D.C.'\n",
    "categories = \"restaurants\"\n",
    "radius = 100\n",
    "\n",
    "# URL PARSE FOR SEARCH PARAMETERS\n",
    "url =  \"https://api.yelp.com/v3/businesses/search\"\n",
    "url_params = {\n",
    "            \"term\": term.replace(' ', '+'),\n",
    "            \"location\": location.replace(' ', '+'),\n",
    "            \"categories\" : categories,\n",
    "            \"limit\": 50,\n",
    "            }\n",
    "\n",
    "# HEADER DEFINITION\n",
    "headers = {'Authorization': 'Bearer {}'.format(api_key),}\n",
    "\n",
    "response = requests.get(url, headers = headers, params = url_params)\n",
    "data = response.json()\n",
    "\n",
    "businesses = []\n",
    "    \n",
    "# LOOP FOR PULLING BUSINESS DATA\n",
    "for business in data['businesses']:\n",
    "\n",
    "    get_categories = []\n",
    "    x_len = len(business['categories'])\n",
    "    for x in range(0,x_len):\n",
    "        get_categories.append(business['categories'][x]['alias'])\n",
    "    num_categories = len(get_categories)\n",
    "\n",
    "    if 'price' in business.keys():\n",
    "        price_val = len(business['price'])\n",
    "    else:\n",
    "        price_val = 0\n",
    "        \n",
    "    biz_tuple = (business['id'], business['name'], get_categories, num_categories, price_val, business['review_count'], business['rating'], business['location']['address1'], business['location']['city'], business['location']['state'])\n",
    "    businesses.append(biz_tuple)\n",
    "\n",
    "parsed_results = pd.DataFrame(businesses, columns=['id', 'name', 'categories', 'num_categories', 'price', 'review_count', 'rating', 'street_address', 'city', 'state'])\n"
   ]
  },
  {
   "cell_type": "code",
   "execution_count": null,
   "metadata": {},
   "outputs": [],
   "source": []
  },
  {
   "cell_type": "code",
   "execution_count": null,
   "metadata": {},
   "outputs": [],
   "source": []
  }
 ],
 "metadata": {
  "kernelspec": {
   "display_name": "Python 3",
   "language": "python",
   "name": "python3"
  },
  "language_info": {
   "codemirror_mode": {
    "name": "ipython",
    "version": 3
   },
   "file_extension": ".py",
   "mimetype": "text/x-python",
   "name": "python",
   "nbconvert_exporter": "python",
   "pygments_lexer": "ipython3",
   "version": "3.8.5"
  }
 },
 "nbformat": 4,
 "nbformat_minor": 4
}
